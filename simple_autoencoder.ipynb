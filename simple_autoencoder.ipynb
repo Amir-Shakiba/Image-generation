{
  "nbformat": 4,
  "nbformat_minor": 0,
  "metadata": {
    "colab": {
      "provenance": [],
      "authorship_tag": "ABX9TyMG9gU+nZyPm3QEF6kLrOlW",
      "include_colab_link": true
    },
    "kernelspec": {
      "name": "python3",
      "display_name": "Python 3"
    },
    "language_info": {
      "name": "python"
    }
  },
  "cells": [
    {
      "cell_type": "markdown",
      "metadata": {
        "id": "view-in-github",
        "colab_type": "text"
      },
      "source": [
        "<a href=\"https://colab.research.google.com/github/Amir-Shakiba/Image-generation/blob/simple-Autoencoder/simple_autoencoder.ipynb\" target=\"_parent\"><img src=\"https://colab.research.google.com/assets/colab-badge.svg\" alt=\"Open In Colab\"/></a>"
      ]
    },
    {
      "cell_type": "code",
      "execution_count": 1,
      "metadata": {
        "id": "fb_bvJ6nFecv"
      },
      "outputs": [],
      "source": [
        "from tensorflow import keras\n",
        "import matplotlib.pyplot as plt \n",
        "import numpy as np"
      ]
    },
    {
      "cell_type": "code",
      "source": [
        "(x_train,_),(x_test,_ ) = keras.datasets.mnist.load_data()"
      ],
      "metadata": {
        "colab": {
          "base_uri": "https://localhost:8080/"
        },
        "id": "7vQX3MwbFlwP",
        "outputId": "b82eae2c-7b79-4653-9fd3-8b552202db14"
      },
      "execution_count": 2,
      "outputs": [
        {
          "output_type": "stream",
          "name": "stdout",
          "text": [
            "Downloading data from https://storage.googleapis.com/tensorflow/tf-keras-datasets/mnist.npz\n",
            "11493376/11490434 [==============================] - 0s 0us/step\n",
            "11501568/11490434 [==============================] - 0s 0us/step\n"
          ]
        }
      ]
    },
    {
      "cell_type": "code",
      "source": [
        "x_train =x_train/255.0\n",
        "x_test = x_test/255.0"
      ],
      "metadata": {
        "id": "SoiFlsR_F0Hl"
      },
      "execution_count": 3,
      "outputs": []
    },
    {
      "cell_type": "code",
      "source": [
        "64/28/28\n"
      ],
      "metadata": {
        "colab": {
          "base_uri": "https://localhost:8080/"
        },
        "id": "agCUSFDNGcD4",
        "outputId": "9f526b93-674a-4380-e904-7bd05456c082"
      },
      "execution_count": 4,
      "outputs": [
        {
          "output_type": "execute_result",
          "data": {
            "text/plain": [
              "0.08163265306122448"
            ]
          },
          "metadata": {},
          "execution_count": 4
        }
      ]
    },
    {
      "cell_type": "code",
      "source": [
        "inputs = keras.Input(shape = (28,28,1))\n",
        "x = keras.layers.Flatten()(inputs)\n",
        "x = keras.layers.Dense(256)(x)\n",
        "enc_out = keras.layers.Dense(64)(x)\n",
        "\n",
        "y = keras.layers.Dense(256)(enc_out)\n",
        "y = keras.layers.Dense(28*28)(y)\n",
        "dec_out = keras.layers.Reshape((28,28,1))(y)\n",
        "\n",
        "decoder = keras.Model(enc_out,dec_out)\n",
        "\n",
        "model = keras.Model(inputs,dec_out)\n",
        "\n",
        "model.compile(optimizer = 'adam', loss = 'mse')\n"
      ],
      "metadata": {
        "id": "KaI79ZAOF6c-"
      },
      "execution_count": 5,
      "outputs": []
    },
    {
      "cell_type": "code",
      "source": [
        "model.fit(x=x_train,y = x_train ,epochs = 5)"
      ],
      "metadata": {
        "colab": {
          "base_uri": "https://localhost:8080/"
        },
        "id": "d9JQZBNVG94O",
        "outputId": "e917028a-103a-4cc3-edca-83629d304096"
      },
      "execution_count": 6,
      "outputs": [
        {
          "output_type": "stream",
          "name": "stdout",
          "text": [
            "Epoch 1/5\n",
            "1875/1875 [==============================] - 13s 7ms/step - loss: 0.0131\n",
            "Epoch 2/5\n",
            "1875/1875 [==============================] - 12s 7ms/step - loss: 0.0099\n",
            "Epoch 3/5\n",
            "1875/1875 [==============================] - 14s 8ms/step - loss: 0.0098\n",
            "Epoch 4/5\n",
            "1875/1875 [==============================] - 14s 8ms/step - loss: 0.0098\n",
            "Epoch 5/5\n",
            "1875/1875 [==============================] - 12s 7ms/step - loss: 0.0098\n"
          ]
        },
        {
          "output_type": "execute_result",
          "data": {
            "text/plain": [
              "<keras.callbacks.History at 0x7f773a871210>"
            ]
          },
          "metadata": {},
          "execution_count": 6
        }
      ]
    },
    {
      "cell_type": "code",
      "source": [
        "images = x_test[:10]\n",
        "predictions = model.predict(images)\n",
        "\n",
        "f , axxr = plt.subplots(2,10,figsize = (20,4))\n",
        "for i in range(10):\n",
        "  axxr[0,i].imshow(images[i])\n",
        "  axxr[1,i].imshow(np.clip(predictions[i,:,:,0],0,1))"
      ],
      "metadata": {
        "colab": {
          "base_uri": "https://localhost:8080/",
          "height": 263
        },
        "id": "qwtLW4acHF6e",
        "outputId": "d6825f1e-89cf-4733-f465-f80e1b670569"
      },
      "execution_count": 10,
      "outputs": [
        {
          "output_type": "display_data",
          "data": {
            "text/plain": [
              "<Figure size 1440x288 with 20 Axes>"
            ],
            "image/png": "[encoded data removed]"
          },
          "metadata": {
            "needs_background": "light"
          }
        }
      ]
    },
    {
      "cell_type": "code",
      "source": [
        "rand_val =np.expand_dims( np.random.rand(64),0)"
      ],
      "metadata": {
        "id": "dgRvmI2_HxAF"
      },
      "execution_count": 11,
      "outputs": []
    },
    {
      "cell_type": "code",
      "source": [
        "rand_val"
      ],
      "metadata": {
        "id": "D4LxUS5dIZ42"
      },
      "execution_count": null,
      "outputs": []
    },
    {
      "cell_type": "code",
      "source": [
        "prediction = decoder.predict(rand_val)"
      ],
      "metadata": {
        "id": "nQp4D6NeIa3t"
      },
      "execution_count": 14,
      "outputs": []
    },
    {
      "cell_type": "code",
      "source": [
        "plt.imshow(np.clip(prediction[0,:,:,0],0,1),cmap='gray')"
      ],
      "metadata": {
        "colab": {
          "base_uri": "https://localhost:8080/",
          "height": 282
        },
        "id": "oOdV-sHPIhTn",
        "outputId": "f200a641-e493-467f-df0b-73c987ccc373"
      },
      "execution_count": 16,
      "outputs": [
        {
          "output_type": "execute_result",
          "data": {
            "text/plain": [
              "<matplotlib.image.AxesImage at 0x7f7735286750>"
            ]
          },
          "metadata": {},
          "execution_count": 16
        },
        {
          "output_type": "display_data",
          "data": {
            "text/plain": [
              "<Figure size 432x288 with 1 Axes>"
            ],
            "image/png": "[encoded data removed]"
          },
          "metadata": {
            "needs_background": "light"
          }
        }
      ]
    },
    {
      "cell_type": "code",
      "source": [],
      "metadata": {
        "id": "pxcnu0clIsmo"
      },
      "execution_count": null,
      "outputs": []
    }
  ]
}